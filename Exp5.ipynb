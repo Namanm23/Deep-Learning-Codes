{
  "nbformat": 4,
  "nbformat_minor": 0,
  "metadata": {
    "colab": {
      "provenance": [],
      "authorship_tag": "ABX9TyNBvtk4iNwIrrIjpLfVy9wo",
      "include_colab_link": true
    },
    "kernelspec": {
      "name": "python3",
      "display_name": "Python 3"
    },
    "language_info": {
      "name": "python"
    }
  },
  "cells": [
    {
      "cell_type": "markdown",
      "metadata": {
        "id": "view-in-github",
        "colab_type": "text"
      },
      "source": [
        "<a href=\"https://colab.research.google.com/github/Namanm23/Deep-Learning-Codes/blob/main/Exp5.ipynb\" target=\"_parent\"><img src=\"https://colab.research.google.com/assets/colab-badge.svg\" alt=\"Open In Colab\"/></a>"
      ]
    },
    {
      "cell_type": "code",
      "execution_count": 2,
      "metadata": {
        "colab": {
          "base_uri": "https://localhost:8080/"
        },
        "id": "LPUsXpO0BqG_",
        "outputId": "a4fea212-707c-49a7-a558-026d71f76c90"
      },
      "outputs": [
        {
          "output_type": "stream",
          "name": "stdout",
          "text": [
            "Epoch 1, Loss: 0.0764\n",
            "Epoch 2, Loss: 0.0478\n",
            "Epoch 3, Loss: 0.1050\n",
            "Epoch 4, Loss: 0.1314\n",
            "Epoch 5, Loss: 0.0425\n",
            "Accuracy: 97.92%\n"
          ]
        }
      ],
      "source": [
        "import numpy as np\n",
        "import torch\n",
        "import torch.nn as nn\n",
        "import torch.optim as optim\n",
        "from torchvision import datasets, transforms\n",
        "from torch.utils.data import DataLoader\n",
        "\n",
        "# Define CNN model\n",
        "class CNN(nn.Module):\n",
        "    def __init__(self):\n",
        "        super(CNN, self).__init__()\n",
        "        self.conv = nn.Conv2d(1, 8, kernel_size=3, padding=1)\n",
        "        self.pool = nn.MaxPool2d(2, 2)\n",
        "        self.fc = nn.Linear(8 * 14 * 14, 10)  # Dynamically inferred size\n",
        "\n",
        "    def forward(self, x):\n",
        "        x = self.pool(torch.relu(self.conv(x)))\n",
        "        x = torch.flatten(x, 1)  # Flatten dynamically\n",
        "        x = self.fc(x)\n",
        "        return x  # No log_softmax, as CrossEntropyLoss expects raw logits\n",
        "\n",
        "# Load and preprocess data\n",
        "def get_data_loader(train=True):\n",
        "    transform = transforms.Compose([\n",
        "        transforms.ToTensor(),\n",
        "        transforms.Normalize((0.1307,), (0.3081,))  # Standard MNIST normalization\n",
        "    ])\n",
        "    dataset = datasets.MNIST(root='./data', train=train, download=True, transform=transform)\n",
        "    return DataLoader(dataset, batch_size=64, shuffle=train, num_workers=2)\n",
        "\n",
        "# Training function\n",
        "def train_model():\n",
        "    device = torch.device(\"cuda\" if torch.cuda.is_available() else \"cpu\")\n",
        "    model = CNN().to(device)\n",
        "    criterion = nn.CrossEntropyLoss()\n",
        "    optimizer = optim.Adam(model.parameters(), lr=0.005)\n",
        "    train_loader = get_data_loader(train=True)\n",
        "\n",
        "    for epoch in range(5):\n",
        "        for images, labels in train_loader:\n",
        "            images, labels = images.to(device), labels.to(device)\n",
        "            optimizer.zero_grad()\n",
        "            output = model(images)\n",
        "            loss = criterion(output, labels)\n",
        "            loss.backward()\n",
        "            optimizer.step()\n",
        "        print(f'Epoch {epoch+1}, Loss: {loss.item():.4f}')\n",
        "\n",
        "    return model\n",
        "\n",
        "# Accuracy calculation function\n",
        "def evaluate_model(model):\n",
        "    device = torch.device(\"cuda\" if torch.cuda.is_available() else \"cpu\")\n",
        "    test_loader = get_data_loader(train=False)\n",
        "    correct = 0\n",
        "    total = 0\n",
        "    model.eval()\n",
        "    with torch.no_grad():\n",
        "        for images, labels in test_loader:\n",
        "            images, labels = images.to(device), labels.to(device)\n",
        "            output = model(images)\n",
        "            _, predicted = torch.max(output, 1)\n",
        "            total += labels.size(0)\n",
        "            correct += (predicted == labels).sum().item()\n",
        "\n",
        "    accuracy = 100 * correct / total\n",
        "    print(f'Accuracy: {accuracy:.2f}%')\n",
        "\n",
        "# Train and evaluate the model\n",
        "model = train_model()\n",
        "evaluate_model(model)\n"
      ]
    },
    {
      "cell_type": "code",
      "source": [],
      "metadata": {
        "id": "2Lmw7jWwGwTy"
      },
      "execution_count": null,
      "outputs": []
    }
  ]
}