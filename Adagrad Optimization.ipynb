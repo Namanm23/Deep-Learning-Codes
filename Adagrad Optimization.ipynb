{
  "nbformat": 4,
  "nbformat_minor": 0,
  "metadata": {
    "colab": {
      "provenance": [],
      "authorship_tag": "ABX9TyPQEVUvm9wJYQg0RSatefcA",
      "include_colab_link": true
    },
    "kernelspec": {
      "name": "python3",
      "display_name": "Python 3"
    },
    "language_info": {
      "name": "python"
    }
  },
  "cells": [
    {
      "cell_type": "markdown",
      "metadata": {
        "id": "view-in-github",
        "colab_type": "text"
      },
      "source": [
        "<a href=\"https://colab.research.google.com/github/Namanm23/Deep-Learning-Codes/blob/main/Exp4.ipynb\" target=\"_parent\"><img src=\"https://colab.research.google.com/assets/colab-badge.svg\" alt=\"Open In Colab\"/></a>"
      ]
    },
    {
      "cell_type": "code",
      "execution_count": 1,
      "metadata": {
        "colab": {
          "base_uri": "https://localhost:8080/",
          "height": 646
        },
        "id": "gR8v_3rpAL4i",
        "outputId": "ca8c7b99-91e2-430a-e9b4-af6991905870"
      },
      "outputs": [
        {
          "output_type": "stream",
          "name": "stdout",
          "text": [
            "Epoch 0, Loss: 4.8024\n",
            "Epoch 100, Loss: 0.3788\n",
            "Epoch 200, Loss: -0.0420\n",
            "Epoch 300, Loss: -0.3263\n",
            "Epoch 400, Loss: -0.4827\n",
            "Epoch 500, Loss: -0.5912\n",
            "Epoch 600, Loss: -0.6791\n",
            "Epoch 700, Loss: -0.7547\n",
            "Epoch 800, Loss: -0.8181\n",
            "Epoch 900, Loss: -0.8745\n"
          ]
        },
        {
          "output_type": "display_data",
          "data": {
            "text/plain": [
              "<Figure size 640x480 with 1 Axes>"
            ],
            "image/png": "[encoded data removed]"
          },
          "metadata": {}
        }
      ],
      "source": [
        "import numpy as np\n",
        "import matplotlib.pyplot as plt\n",
        "\n",
        "class AdaGradOptimizer:\n",
        "    def __init__(self, learning_rate=0.01, epsilon=1e-8):\n",
        "        self.learning_rate = learning_rate\n",
        "        self.epsilon = epsilon\n",
        "        self.grad_squares = {}\n",
        "\n",
        "    def update(self, param, grad):\n",
        "        if param not in self.grad_squares:\n",
        "            self.grad_squares[param] = np.zeros_like(grad)\n",
        "        self.grad_squares[param] += grad ** 2\n",
        "        adjusted_grad = grad / (np.sqrt(self.grad_squares[param]) + self.epsilon)\n",
        "        return self.learning_rate * adjusted_grad\n",
        "\n",
        "class DNN:\n",
        "    def __init__(self, layer_sizes):\n",
        "        self.params = {}\n",
        "        self.layer_sizes = layer_sizes\n",
        "        self.initialize_params()\n",
        "\n",
        "    def initialize_params(self):\n",
        "        for i in range(1, len(self.layer_sizes)):\n",
        "            self.params[f'W{i}'] = np.random.randn(self.layer_sizes[i], self.layer_sizes[i-1]) * 0.01\n",
        "            self.params[f'b{i}'] = np.zeros((self.layer_sizes[i], 1))\n",
        "\n",
        "    def forward(self, X):\n",
        "        cache = {'A0': X}\n",
        "        A = X\n",
        "        for i in range(1, len(self.layer_sizes)):\n",
        "            W = self.params[f'W{i}']\n",
        "            b = self.params[f'b{i}']\n",
        "            Z = np.dot(W, A) + b\n",
        "            A = np.maximum(0, Z)  # ReLU activation\n",
        "            cache[f'Z{i}'] = Z\n",
        "            cache[f'A{i}'] = A\n",
        "        return A, cache\n",
        "\n",
        "    def compute_loss(self, A, Y):\n",
        "        m = Y.shape[1]\n",
        "        loss = -np.sum(Y * np.log(A + 1e-8)) / m\n",
        "        return loss\n",
        "\n",
        "    def backward(self, cache, Y):\n",
        "        grads = {}\n",
        "        m = Y.shape[1]\n",
        "        A_final = cache[f'A{len(self.layer_sizes)-1}']\n",
        "        dA = - (np.divide(Y, A_final + 1e-8) - np.divide(1 - Y, 1 - A_final + 1e-8))\n",
        "        for i in reversed(range(1, len(self.layer_sizes))):\n",
        "            dZ = dA * (cache[f'Z{i}'] > 0)\n",
        "            dW = np.dot(dZ, cache[f'A{i-1}'].T) / m\n",
        "            db = np.sum(dZ, axis=1, keepdims=True) / m\n",
        "            dA = np.dot(self.params[f'W{i}'].T, dZ)\n",
        "            grads[f'dW{i}'] = dW\n",
        "            grads[f'db{i}'] = db\n",
        "        return grads\n",
        "\n",
        "    def update_params(self, grads, optimizer):\n",
        "        for i in range(1, len(self.layer_sizes)):\n",
        "            self.params[f'W{i}'] -= optimizer.update(f'W{i}', grads[f'dW{i}'])\n",
        "            self.params[f'b{i}'] -= optimizer.update(f'b{i}', grads[f'db{i}'])\n",
        "\n",
        "    def train(self, X, Y, epochs=1000, learning_rate=0.01):\n",
        "        optimizer = AdaGradOptimizer(learning_rate=learning_rate)\n",
        "        losses = []\n",
        "        for epoch in range(epochs):\n",
        "            A, cache = self.forward(X)\n",
        "            loss = self.compute_loss(A, Y)\n",
        "            grads = self.backward(cache, Y)\n",
        "            self.update_params(grads, optimizer)\n",
        "            losses.append(loss)\n",
        "            if epoch % 100 == 0:\n",
        "                print(f'Epoch {epoch}, Loss: {loss:.4f}')\n",
        "        return losses\n",
        "\n",
        "# Generate synthetic dataset\n",
        "np.random.seed(42)\n",
        "X = np.random.randn(2, 500)\n",
        "Y = (np.sum(X, axis=0, keepdims=True) > 0).astype(float)\n",
        "\n",
        "# Initialize and train the neural network\n",
        "dnn = DNN([2, 4, 1])\n",
        "losses = dnn.train(X, Y, epochs=1000, learning_rate=0.1)\n",
        "\n",
        "# Plot the training loss\n",
        "plt.plot(losses)\n",
        "plt.xlabel('Epochs')\n",
        "plt.ylabel('Loss')\n",
        "plt.title('Training Loss with AdaGrad Optimization')\n",
        "plt.show()\n"
      ]
    },
    {
      "cell_type": "code",
      "source": [],
      "metadata": {
        "id": "DEwg-yiEAMvn"
      },
      "execution_count": null,
      "outputs": []
    }
  ]
}
